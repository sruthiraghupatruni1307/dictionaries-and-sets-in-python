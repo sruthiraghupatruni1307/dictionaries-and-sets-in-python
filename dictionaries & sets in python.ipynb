{
 "cells": [
  {
   "cell_type": "markdown",
   "id": "8cfee491",
   "metadata": {},
   "source": [
    "# dictionaries\n",
    "\n",
    "- accessing the elements\n",
    "- dictionary methods\n",
    "\n",
    "# sets\n",
    "\n",
    "- set methods"
   ]
  },
  {
   "cell_type": "markdown",
   "id": "80af2984",
   "metadata": {},
   "source": [
    "## dictionary\n",
    "\n",
    "It is used to store non homogeneous group of data in the form of key:value\n",
    "\n",
    "## properties\n",
    "- used to store data as K:V in `{}`\n",
    "- iterable\n",
    "- ordered\n",
    "   - python 3.6 is unordered\n",
    "   - python 3.6+ is ordered\n",
    "- key should be unique and it should be immutable"
   ]
  },
  {
   "cell_type": "code",
   "execution_count": 1,
   "id": "6e7bf760",
   "metadata": {},
   "outputs": [
    {
     "name": "stdout",
     "output_type": "stream",
     "text": [
      "<class 'dict'> <class 'dict'>\n"
     ]
    }
   ],
   "source": [
    "d1={}\n",
    "d2=dict()\n",
    "print(type(d1),type(d2))"
   ]
  },
  {
   "cell_type": "code",
   "execution_count": 3,
   "id": "8d77e6c8",
   "metadata": {},
   "outputs": [
    {
     "name": "stdout",
     "output_type": "stream",
     "text": [
      "{'Rollno': [1, 2, 3, 4, 5, 6]}\n"
     ]
    }
   ],
   "source": [
    "d1={'Rollno':[1,2,3,4,5,6]}\n",
    "print(d1)"
   ]
  },
  {
   "cell_type": "code",
   "execution_count": 31,
   "id": "6da781ee",
   "metadata": {},
   "outputs": [],
   "source": [
    "d1={'1234567890':['APSSDC','Vijayawada','26/05/2001','9876543210'],\n",
    "    '9876543210':['Python','Earth','01/02/1990','0123654789'],\n",
    "    '1234567890':['Panda','vizag','27/09/2004','8745632105']}\n"
   ]
  },
  {
   "cell_type": "code",
   "execution_count": 32,
   "id": "58a36ae5",
   "metadata": {},
   "outputs": [
    {
     "name": "stdout",
     "output_type": "stream",
     "text": [
      "{'1234567890': ['Panda', 'vizag', '27/09/2004', '8745632105'], '9876543210': ['Python', 'Earth', '01/02/1990', '0123654789']}\n"
     ]
    }
   ],
   "source": [
    "print(d1)"
   ]
  },
  {
   "cell_type": "code",
   "execution_count": 33,
   "id": "5802fb49",
   "metadata": {},
   "outputs": [
    {
     "ename": "TypeError",
     "evalue": "unhashable type: 'list'",
     "output_type": "error",
     "traceback": [
      "\u001b[1;31m---------------------------------------------------------------------------\u001b[0m",
      "\u001b[1;31mTypeError\u001b[0m                                 Traceback (most recent call last)",
      "\u001b[1;32m<ipython-input-33-0e79ed63983c>\u001b[0m in \u001b[0;36m<module>\u001b[1;34m\u001b[0m\n\u001b[1;32m----> 1\u001b[1;33m \u001b[0md2\u001b[0m\u001b[1;33m=\u001b[0m\u001b[1;33m{\u001b[0m\u001b[1;33m[\u001b[0m\u001b[1;36m1\u001b[0m\u001b[1;33m,\u001b[0m\u001b[1;36m2\u001b[0m\u001b[1;33m,\u001b[0m\u001b[1;36m3\u001b[0m\u001b[1;33m]\u001b[0m\u001b[1;33m:\u001b[0m\u001b[1;34m'Python'\u001b[0m\u001b[1;33m}\u001b[0m\u001b[1;33m\u001b[0m\u001b[1;33m\u001b[0m\u001b[0m\n\u001b[0m",
      "\u001b[1;31mTypeError\u001b[0m: unhashable type: 'list'"
     ]
    }
   ],
   "source": [
    "d2={[1,2,3]:'Python'}"
   ]
  },
  {
   "cell_type": "code",
   "execution_count": 34,
   "id": "c45a90c7",
   "metadata": {},
   "outputs": [
    {
     "name": "stdout",
     "output_type": "stream",
     "text": [
      "{(1, 2, 3): 'Python'}\n"
     ]
    }
   ],
   "source": [
    "d2={(1,2,3):'Python'}\n",
    "print(d2)"
   ]
  },
  {
   "cell_type": "markdown",
   "id": "f0dd93a8",
   "metadata": {},
   "source": [
    "## accessing the pairs from the dict"
   ]
  },
  {
   "cell_type": "code",
   "execution_count": 35,
   "id": "6540fc9e",
   "metadata": {},
   "outputs": [
    {
     "name": "stdout",
     "output_type": "stream",
     "text": [
      "{'1234567890': ['Panda', 'vizag', '27/09/2004', '8745632105'], '9876543210': ['Python', 'Earth', '01/02/1990', '0123654789']}\n"
     ]
    }
   ],
   "source": [
    "print(d1)"
   ]
  },
  {
   "cell_type": "code",
   "execution_count": 36,
   "id": "ed969630",
   "metadata": {},
   "outputs": [
    {
     "name": "stdout",
     "output_type": "stream",
     "text": [
      "['Panda', 'vizag', '27/09/2004', '8745632105']\n"
     ]
    }
   ],
   "source": [
    "print(d1['1234567890'])"
   ]
  },
  {
   "cell_type": "code",
   "execution_count": 37,
   "id": "8a903409",
   "metadata": {},
   "outputs": [
    {
     "name": "stdout",
     "output_type": "stream",
     "text": [
      "{'1234567890': ['Apssdc', 'Tadepalli', '01/01/2014', '1234567890'], '9876543210': ['Python', 'Earth', '01/02/1990', '0123654789'], '123456789': ['APSSDC', 'Vijayawada', '26/05/2001', '9876543210']}\n"
     ]
    }
   ],
   "source": [
    "d1['1234567890']=['Apssdc','Tadepalli','01/01/2014','1234567890']\n",
    "d1['123456789']=['APSSDC','Vijayawada','26/05/2001','9876543210']\n",
    "print(d1)"
   ]
  },
  {
   "cell_type": "code",
   "execution_count": 38,
   "id": "48b87f4a",
   "metadata": {},
   "outputs": [
    {
     "name": "stdout",
     "output_type": "stream",
     "text": [
      "['Apssdc', 'Tadepalli', '01/01/2014', '1234567890']\n"
     ]
    }
   ],
   "source": [
    "print(d1['1234567890'])"
   ]
  },
  {
   "cell_type": "code",
   "execution_count": 39,
   "id": "e9434b59",
   "metadata": {},
   "outputs": [
    {
     "name": "stdout",
     "output_type": "stream",
     "text": [
      "01/01/2014\n"
     ]
    }
   ],
   "source": [
    "print(d1['1234567890'][2])"
   ]
  },
  {
   "cell_type": "code",
   "execution_count": 40,
   "id": "5bfd7d31",
   "metadata": {},
   "outputs": [
    {
     "name": "stdout",
     "output_type": "stream",
     "text": [
      "{'1234567890': ['Apssdc', 'Tadepalli', '07/07/2014', '1234567890'], '9876543210': ['Python', 'Earth', '01/02/1990', '0123654789'], '123456789': ['APSSDC', 'Vijayawada', '26/05/2001', '9876543210']}\n"
     ]
    }
   ],
   "source": [
    "d1['1234567890'][2]='07/07/2014'\n",
    "print(d1)"
   ]
  },
  {
   "cell_type": "code",
   "execution_count": 41,
   "id": "490985b3",
   "metadata": {},
   "outputs": [
    {
     "name": "stdout",
     "output_type": "stream",
     "text": [
      "{'1234567890': ['Apssdc', 'Tadepalli', '07/07/2014', '95135741236'], '9876543210': ['Python', 'Earth', '01/02/1990', '0123654789'], '123456789': ['APSSDC', 'Vijayawada', '26/05/2001', '9876543210']}\n"
     ]
    }
   ],
   "source": [
    "d1['1234567890'][3]='95135741236'\n",
    "print(d1)"
   ]
  },
  {
   "cell_type": "code",
   "execution_count": 42,
   "id": "908961dd",
   "metadata": {},
   "outputs": [
    {
     "name": "stdout",
     "output_type": "stream",
     "text": [
      "{'1234567890': ['07/07/2014', '95135741236', 'Apssdc', 'Tadepalli'], '9876543210': ['Python', 'Earth', '01/02/1990', '0123654789'], '123456789': ['APSSDC', 'Vijayawada', '26/05/2001', '9876543210']}\n"
     ]
    }
   ],
   "source": [
    "d1['1234567890']=sorted(d1['1234567890'])\n",
    "print(d1)"
   ]
  },
  {
   "cell_type": "code",
   "execution_count": 2,
   "id": "96ec6bc2",
   "metadata": {},
   "outputs": [
    {
     "name": "stdout",
     "output_type": "stream",
     "text": [
      "456\n"
     ]
    }
   ],
   "source": [
    "d2={123:456,132:344,123:456}\n",
    "print(d2[123])"
   ]
  },
  {
   "cell_type": "markdown",
   "id": "4810387d",
   "metadata": {},
   "source": [
    "## dictionary methods"
   ]
  },
  {
   "cell_type": "code",
   "execution_count": 44,
   "id": "b280d313",
   "metadata": {},
   "outputs": [
    {
     "name": "stdout",
     "output_type": "stream",
     "text": [
      "{'1234567890': ['07/07/2014', '95135741236', 'Apssdc', 'Tadepalli'], '9876543210': ['Python', 'Earth', '01/02/1990', '0123654789'], '123456789': ['APSSDC', 'Vijayawada', '26/05/2001', '9876543210']}\n"
     ]
    }
   ],
   "source": [
    "print(d1)"
   ]
  },
  {
   "cell_type": "code",
   "execution_count": 45,
   "id": "3d5f058b",
   "metadata": {},
   "outputs": [
    {
     "name": "stdout",
     "output_type": "stream",
     "text": [
      "dict_keys(['1234567890', '9876543210', '123456789'])\n"
     ]
    }
   ],
   "source": [
    "print(d1.keys())"
   ]
  },
  {
   "cell_type": "code",
   "execution_count": 46,
   "id": "8896bfbc",
   "metadata": {},
   "outputs": [
    {
     "name": "stdout",
     "output_type": "stream",
     "text": [
      "dict_values([['07/07/2014', '95135741236', 'Apssdc', 'Tadepalli'], ['Python', 'Earth', '01/02/1990', '0123654789'], ['APSSDC', 'Vijayawada', '26/05/2001', '9876543210']])\n"
     ]
    }
   ],
   "source": [
    "print(d1.values())"
   ]
  },
  {
   "cell_type": "code",
   "execution_count": 47,
   "id": "eb302d33",
   "metadata": {},
   "outputs": [
    {
     "name": "stdout",
     "output_type": "stream",
     "text": [
      "dict_items([('1234567890', ['07/07/2014', '95135741236', 'Apssdc', 'Tadepalli']), ('9876543210', ['Python', 'Earth', '01/02/1990', '0123654789']), ('123456789', ['APSSDC', 'Vijayawada', '26/05/2001', '9876543210'])])\n"
     ]
    }
   ],
   "source": [
    "print(d1.items())"
   ]
  },
  {
   "cell_type": "code",
   "execution_count": 48,
   "id": "d1bf8930",
   "metadata": {},
   "outputs": [
    {
     "data": {
      "text/plain": [
       "['07/07/2014', '95135741236', 'Apssdc', 'Tadepalli']"
      ]
     },
     "execution_count": 48,
     "metadata": {},
     "output_type": "execute_result"
    }
   ],
   "source": [
    "d1.get('1234567890')"
   ]
  },
  {
   "cell_type": "code",
   "execution_count": 49,
   "id": "97610fe8",
   "metadata": {},
   "outputs": [
    {
     "name": "stdout",
     "output_type": "stream",
     "text": [
      "None\n"
     ]
    }
   ],
   "source": [
    "print(d1.get('123'))"
   ]
  },
  {
   "cell_type": "code",
   "execution_count": 6,
   "id": "d3a116ea",
   "metadata": {},
   "outputs": [
    {
     "name": "stdout",
     "output_type": "stream",
     "text": [
      "{'2_1': [25, 55, 65, 77, 80, 60]}\n"
     ]
    }
   ],
   "source": [
    "m21 = {'2_1':[25,55,65,77,80,60]}\n",
    "m31 = {'2_1':[35,55,65,77,80,60],'3_1':[1,2,4,5,6]}\n",
    "m32 = {'2_1':[50,55,65,77,80,60],'3_2':[6,5,4,3,2,1]}\n",
    "print(m21)"
   ]
  },
  {
   "cell_type": "code",
   "execution_count": 7,
   "id": "0dd87b7f",
   "metadata": {},
   "outputs": [
    {
     "name": "stdout",
     "output_type": "stream",
     "text": [
      "{'2_1': [25, 55, 65, 77, 80, 60]}\n"
     ]
    }
   ],
   "source": [
    "print(m21)"
   ]
  },
  {
   "cell_type": "code",
   "execution_count": 8,
   "id": "a9f6e84b",
   "metadata": {},
   "outputs": [
    {
     "name": "stdout",
     "output_type": "stream",
     "text": [
      "{'2_1': [35, 55, 65, 77, 80, 60], '3_1': [1, 2, 4, 5, 6]}\n"
     ]
    }
   ],
   "source": [
    "m21.update(m31)\n",
    "print(m21)"
   ]
  },
  {
   "cell_type": "code",
   "execution_count": 9,
   "id": "a29fd97d",
   "metadata": {},
   "outputs": [
    {
     "name": "stdout",
     "output_type": "stream",
     "text": [
      "{'2_1': [50, 55, 65, 77, 80, 60], '3_1': [1, 2, 4, 5, 6], '3_2': [6, 5, 4, 3, 2, 1]}\n"
     ]
    }
   ],
   "source": [
    "m21.update(m32)\n",
    "print(m21)"
   ]
  },
  {
   "cell_type": "code",
   "execution_count": 11,
   "id": "13b5e6ca",
   "metadata": {},
   "outputs": [
    {
     "name": "stdout",
     "output_type": "stream",
     "text": [
      "{'2_1': [50, 55, 65, 77, 80, 60], '3_1': [1, 2, 4, 5, 6], '3_2': [6, 5, 4, 3, 2, 1]}\n"
     ]
    }
   ],
   "source": [
    "copy=m21.copy()\n",
    "print(copy)"
   ]
  },
  {
   "cell_type": "code",
   "execution_count": 12,
   "id": "40550427",
   "metadata": {},
   "outputs": [
    {
     "name": "stdout",
     "output_type": "stream",
     "text": [
      "{}\n"
     ]
    }
   ],
   "source": [
    "m21.clear()\n",
    "print(m21)"
   ]
  },
  {
   "cell_type": "code",
   "execution_count": 13,
   "id": "45463427",
   "metadata": {},
   "outputs": [
    {
     "name": "stdout",
     "output_type": "stream",
     "text": [
      "{'2_1': [35, 55, 65, 77, 80, 60], '3_1': [1, 2, 4, 5, 6]}\n"
     ]
    }
   ],
   "source": [
    "m21=m31.copy()\n",
    "print(m21)"
   ]
  },
  {
   "cell_type": "code",
   "execution_count": 14,
   "id": "7236e506",
   "metadata": {},
   "outputs": [
    {
     "name": "stdout",
     "output_type": "stream",
     "text": [
      "[1, 2, 4, 5, 6]\n",
      "{'2_1': [35, 55, 65, 77, 80, 60]}\n"
     ]
    }
   ],
   "source": [
    "print(m31.pop('3_1'))\n",
    "print(m31)"
   ]
  },
  {
   "cell_type": "code",
   "execution_count": 15,
   "id": "fb3b16cc",
   "metadata": {},
   "outputs": [
    {
     "ename": "KeyError",
     "evalue": "'3_1'",
     "output_type": "error",
     "traceback": [
      "\u001b[1;31m---------------------------------------------------------------------------\u001b[0m",
      "\u001b[1;31mKeyError\u001b[0m                                  Traceback (most recent call last)",
      "\u001b[1;32m<ipython-input-15-421ecae946e3>\u001b[0m in \u001b[0;36m<module>\u001b[1;34m\u001b[0m\n\u001b[1;32m----> 1\u001b[1;33m \u001b[0mprint\u001b[0m\u001b[1;33m(\u001b[0m\u001b[0mm31\u001b[0m\u001b[1;33m.\u001b[0m\u001b[0mpop\u001b[0m\u001b[1;33m(\u001b[0m\u001b[1;34m'3_1'\u001b[0m\u001b[1;33m)\u001b[0m\u001b[1;33m)\u001b[0m\u001b[1;33m\u001b[0m\u001b[1;33m\u001b[0m\u001b[0m\n\u001b[0m\u001b[0;32m      2\u001b[0m \u001b[0mprint\u001b[0m\u001b[1;33m(\u001b[0m\u001b[0mm31\u001b[0m\u001b[1;33m)\u001b[0m\u001b[1;33m\u001b[0m\u001b[1;33m\u001b[0m\u001b[0m\n",
      "\u001b[1;31mKeyError\u001b[0m: '3_1'"
     ]
    }
   ],
   "source": [
    "print(m31.pop('3_1'))\n",
    "print(m31)"
   ]
  },
  {
   "cell_type": "code",
   "execution_count": 16,
   "id": "b57c0780",
   "metadata": {},
   "outputs": [
    {
     "name": "stdout",
     "output_type": "stream",
     "text": [
      "{'2_1': [50, 55, 65, 77, 80, 60], '3_2': [6, 5, 4, 3, 2, 1]}\n"
     ]
    }
   ],
   "source": [
    "print(m32)"
   ]
  },
  {
   "cell_type": "code",
   "execution_count": 18,
   "id": "153767d0",
   "metadata": {},
   "outputs": [
    {
     "name": "stdout",
     "output_type": "stream",
     "text": [
      "1 2 3\n"
     ]
    }
   ],
   "source": [
    "li=[1,2,3]\n",
    "a,b,c=li\n",
    "print(a,b,c)"
   ]
  },
  {
   "cell_type": "code",
   "execution_count": 19,
   "id": "ec459272",
   "metadata": {},
   "outputs": [
    {
     "ename": "ValueError",
     "evalue": "too many values to unpack (expected 2)",
     "output_type": "error",
     "traceback": [
      "\u001b[1;31m---------------------------------------------------------------------------\u001b[0m",
      "\u001b[1;31mValueError\u001b[0m                                Traceback (most recent call last)",
      "\u001b[1;32m<ipython-input-19-e6b11854c742>\u001b[0m in \u001b[0;36m<module>\u001b[1;34m\u001b[0m\n\u001b[1;32m----> 1\u001b[1;33m \u001b[0ma\u001b[0m\u001b[1;33m,\u001b[0m\u001b[0mb\u001b[0m\u001b[1;33m=\u001b[0m\u001b[1;33m[\u001b[0m\u001b[1;36m1\u001b[0m\u001b[1;33m,\u001b[0m\u001b[1;36m2\u001b[0m\u001b[1;33m,\u001b[0m\u001b[1;36m3\u001b[0m\u001b[1;33m]\u001b[0m\u001b[1;33m\u001b[0m\u001b[1;33m\u001b[0m\u001b[0m\n\u001b[0m",
      "\u001b[1;31mValueError\u001b[0m: too many values to unpack (expected 2)"
     ]
    }
   ],
   "source": [
    "a,b=[1,2,3]"
   ]
  },
  {
   "cell_type": "code",
   "execution_count": 21,
   "id": "b48ec3fe",
   "metadata": {},
   "outputs": [
    {
     "ename": "ValueError",
     "evalue": "not enough values to unpack (expected 4, got 3)",
     "output_type": "error",
     "traceback": [
      "\u001b[1;31m---------------------------------------------------------------------------\u001b[0m",
      "\u001b[1;31mValueError\u001b[0m                                Traceback (most recent call last)",
      "\u001b[1;32m<ipython-input-21-5f4f5a0cafb7>\u001b[0m in \u001b[0;36m<module>\u001b[1;34m\u001b[0m\n\u001b[1;32m----> 1\u001b[1;33m \u001b[0ma\u001b[0m\u001b[1;33m,\u001b[0m\u001b[0mb\u001b[0m\u001b[1;33m,\u001b[0m\u001b[0mc\u001b[0m\u001b[1;33m,\u001b[0m\u001b[0md\u001b[0m\u001b[1;33m=\u001b[0m\u001b[1;33m[\u001b[0m\u001b[1;36m1\u001b[0m\u001b[1;33m,\u001b[0m\u001b[1;36m2\u001b[0m\u001b[1;33m,\u001b[0m\u001b[1;36m3\u001b[0m\u001b[1;33m]\u001b[0m\u001b[1;33m\u001b[0m\u001b[1;33m\u001b[0m\u001b[0m\n\u001b[0m",
      "\u001b[1;31mValueError\u001b[0m: not enough values to unpack (expected 4, got 3)"
     ]
    }
   ],
   "source": [
    "a,b,c,d=[1,2,3]"
   ]
  },
  {
   "cell_type": "code",
   "execution_count": 22,
   "id": "f6ad0b48",
   "metadata": {},
   "outputs": [
    {
     "name": "stdout",
     "output_type": "stream",
     "text": [
      "1 1 2 3\n"
     ]
    }
   ],
   "source": [
    "a,b,c,d=(1,1,2,3)\n",
    "print(a,b,c,d)"
   ]
  },
  {
   "cell_type": "code",
   "execution_count": 23,
   "id": "e1fcae82",
   "metadata": {},
   "outputs": [
    {
     "name": "stdout",
     "output_type": "stream",
     "text": [
      "[1, 1, 2, 3]\n"
     ]
    }
   ],
   "source": [
    "li2=[a,b,c,d]\n",
    "print(li2)"
   ]
  },
  {
   "cell_type": "markdown",
   "id": "74af6d35",
   "metadata": {},
   "source": [
    "## Iterating"
   ]
  },
  {
   "cell_type": "code",
   "execution_count": 64,
   "id": "10549331",
   "metadata": {},
   "outputs": [
    {
     "name": "stdout",
     "output_type": "stream",
     "text": [
      "1234567890\n",
      "9876543210\n",
      "123456789\n"
     ]
    }
   ],
   "source": [
    "for pair in d1:\n",
    "    print(pair)"
   ]
  },
  {
   "cell_type": "code",
   "execution_count": 65,
   "id": "55a7e113",
   "metadata": {},
   "outputs": [
    {
     "name": "stdout",
     "output_type": "stream",
     "text": [
      "['07/07/2014', '95135741236', 'Apssdc', 'Tadepalli']\n",
      "['Python', 'Earth', '01/02/1990', '0123654789']\n",
      "['APSSDC', 'Vijayawada', '26/05/2001', '9876543210']\n"
     ]
    }
   ],
   "source": [
    "for pair in d1:\n",
    "    print(d1[pair])"
   ]
  },
  {
   "cell_type": "code",
   "execution_count": 66,
   "id": "ab94139e",
   "metadata": {},
   "outputs": [
    {
     "name": "stdout",
     "output_type": "stream",
     "text": [
      "['07/07/2014', '95135741236', 'Apssdc', 'Tadepalli']\n",
      "['Python', 'Earth', '01/02/1990', '0123654789']\n",
      "['APSSDC', 'Vijayawada', '26/05/2001', '9876543210']\n"
     ]
    }
   ],
   "source": [
    "for pair in d1:\n",
    "    print(d1.get(pair))"
   ]
  },
  {
   "cell_type": "code",
   "execution_count": 67,
   "id": "351649ca",
   "metadata": {},
   "outputs": [
    {
     "name": "stdout",
     "output_type": "stream",
     "text": [
      "('1234567890', ['07/07/2014', '95135741236', 'Apssdc', 'Tadepalli'])\n",
      "('9876543210', ['Python', 'Earth', '01/02/1990', '0123654789'])\n",
      "('123456789', ['APSSDC', 'Vijayawada', '26/05/2001', '9876543210'])\n"
     ]
    }
   ],
   "source": [
    "for pair in d1.items():\n",
    "    print(pair)"
   ]
  },
  {
   "cell_type": "code",
   "execution_count": 68,
   "id": "0e02b986",
   "metadata": {},
   "outputs": [
    {
     "name": "stdout",
     "output_type": "stream",
     "text": [
      "['07/07/2014', '95135741236', 'Apssdc', 'Tadepalli']\n",
      "['Python', 'Earth', '01/02/1990', '0123654789']\n",
      "['APSSDC', 'Vijayawada', '26/05/2001', '9876543210']\n"
     ]
    }
   ],
   "source": [
    "for pair in d1.items():\n",
    "    print(pair[1])"
   ]
  },
  {
   "cell_type": "code",
   "execution_count": 71,
   "id": "55bb3886",
   "metadata": {},
   "outputs": [
    {
     "name": "stdout",
     "output_type": "stream",
     "text": [
      "1234567890\n",
      "['07/07/2014', '95135741236', 'Apssdc', 'Tadepalli']\n",
      "**********\n",
      "9876543210\n",
      "['Python', 'Earth', '01/02/1990', '0123654789']\n",
      "**********\n",
      "123456789\n",
      "['APSSDC', 'Vijayawada', '26/05/2001', '9876543210']\n",
      "**********\n"
     ]
    }
   ],
   "source": [
    "for key,value in d1.items():\n",
    "    print(key)\n",
    "    print(value)\n",
    "    print('*'* 10)"
   ]
  },
  {
   "cell_type": "markdown",
   "id": "f501ec85",
   "metadata": {},
   "source": [
    "{1:1,2:4,3:9,........100:10000}"
   ]
  },
  {
   "cell_type": "code",
   "execution_count": 74,
   "id": "6fe76074",
   "metadata": {},
   "outputs": [
    {
     "name": "stdout",
     "output_type": "stream",
     "text": [
      "{1: 1, 2: 4, 3: 9, 4: 16, 5: 25, 6: 36, 7: 49, 8: 64, 9: 81, 10: 100, 11: 121, 12: 144, 13: 169, 14: 196, 15: 225, 16: 256, 17: 289, 18: 324, 19: 361, 20: 400, 21: 441, 22: 484, 23: 529, 24: 576, 25: 625, 26: 676, 27: 729, 28: 784, 29: 841, 30: 900, 31: 961, 32: 1024, 33: 1089, 34: 1156, 35: 1225, 36: 1296, 37: 1369, 38: 1444, 39: 1521, 40: 1600, 41: 1681, 42: 1764, 43: 1849, 44: 1936, 45: 2025, 46: 2116, 47: 2209, 48: 2304, 49: 2401, 50: 2500, 51: 2601, 52: 2704, 53: 2809, 54: 2916, 55: 3025, 56: 3136, 57: 3249, 58: 3364, 59: 3481, 60: 3600, 61: 3721, 62: 3844, 63: 3969, 64: 4096, 65: 4225, 66: 4356, 67: 4489, 68: 4624, 69: 4761, 70: 4900, 71: 5041, 72: 5184, 73: 5329, 74: 5476, 75: 5625, 76: 5776, 77: 5929, 78: 6084, 79: 6241, 80: 6400, 81: 6561, 82: 6724, 83: 6889, 84: 7056, 85: 7225, 86: 7396, 87: 7569, 88: 7744, 89: 7921, 90: 8100, 91: 8281, 92: 8464, 93: 8649, 94: 8836, 95: 9025, 96: 9216, 97: 9409, 98: 9604, 99: 9801, 100: 10000}\n"
     ]
    }
   ],
   "source": [
    "sq={}\n",
    "for i in range(1,101):\n",
    "    sq[i]=i**2\n",
    "print(sq)"
   ]
  },
  {
   "cell_type": "code",
   "execution_count": 76,
   "id": "aaa5e9bb",
   "metadata": {},
   "outputs": [
    {
     "name": "stdout",
     "output_type": "stream",
     "text": [
      "4--16--36--64--100--144--196--256--324--400--484--576--676--784--900--1024--1156--1296--1444--1600--1764--1936--2116--2304--2500--2704--2916--3136--3364--3600--3844--4096--4356--4624--4900--5184--5476--5776--6084--6400--6724--7056--7396--7744--8100--8464--8836--9216--9604--10000--"
     ]
    }
   ],
   "source": [
    "for key in sq:\n",
    "    if key%2==0:\n",
    "        print(sq[key],end='--')"
   ]
  },
  {
   "cell_type": "markdown",
   "id": "fb92199b",
   "metadata": {},
   "source": [
    "## contact application\n",
    "\n",
    "{'Name'=['mobile1','mobile2','email','DOB','website']}\n",
    "\n",
    "- 1. create a contact -> key:value\n",
    "- 2. add the contact to existing contact -> key->name\n",
    "- 3. edit a number->key->value\n",
    "- 4. delete the contact->name"
   ]
  },
  {
   "cell_type": "code",
   "execution_count": 35,
   "id": "70919b7b",
   "metadata": {},
   "outputs": [
    {
     "name": "stdout",
     "output_type": "stream",
     "text": [
      "press the options below\n",
      "1.create a contact\n",
      "2.add the contact to existing contact\n",
      "3.edit the contact\n",
      "4.delete the contact2\n"
     ]
    }
   ],
   "source": [
    "option=input(\"\"\"press the options below\n",
    "1.create a contact\n",
    "2.add the contact to existing contact\n",
    "3.edit the contact\n",
    "4.delete the contact\"\"\")"
   ]
  },
  {
   "cell_type": "code",
   "execution_count": 26,
   "id": "b41aa993",
   "metadata": {},
   "outputs": [],
   "source": [
    "contact={}"
   ]
  },
  {
   "cell_type": "code",
   "execution_count": 34,
   "id": "54a6366a",
   "metadata": {},
   "outputs": [
    {
     "name": "stdout",
     "output_type": "stream",
     "text": [
      "enter contact namePython\n",
      "enter details with space sep9876543210 python@gmail.com 01-01-1997\n"
     ]
    }
   ],
   "source": [
    "if option=='1':\n",
    "    key=input(\"enter contact name\")\n",
    "    value=input(\"enter details with space sep\").split()\n",
    "    contact[key]=value"
   ]
  },
  {
   "cell_type": "code",
   "execution_count": 40,
   "id": "183ee7b3",
   "metadata": {},
   "outputs": [
    {
     "name": "stdout",
     "output_type": "stream",
     "text": [
      "{'python': ['9876543210', 'python@gmail.com', '01-01-1997', '1327'], 'Python': ['9876543210', 'python@gmail.com', '01-01-1997', '1327']}\n"
     ]
    }
   ],
   "source": [
    "print(contact)"
   ]
  },
  {
   "cell_type": "code",
   "execution_count": 41,
   "id": "4c2c2329",
   "metadata": {},
   "outputs": [
    {
     "name": "stdout",
     "output_type": "stream",
     "text": [
      "enter the name to add the existingPython\n",
      "enter the data to update1327\n"
     ]
    }
   ],
   "source": [
    "if option=='2':\n",
    "    name=input('enter the name to add the existing')\n",
    "    if name in contact:\n",
    "        data= input('enter the data to update').split()\n",
    "        contact[name].extend(data)\n",
    "    else:\n",
    "        print(name,\"contact is not available\")"
   ]
  },
  {
   "cell_type": "code",
   "execution_count": 42,
   "id": "89df7809",
   "metadata": {},
   "outputs": [
    {
     "name": "stdout",
     "output_type": "stream",
     "text": [
      "{'python': ['9876543210', 'python@gmail.com', '01-01-1997', '1327'], 'Python': ['9876543210', 'python@gmail.com', '01-01-1997', '1327', '1327']}\n"
     ]
    }
   ],
   "source": [
    "print(contact)"
   ]
  },
  {
   "cell_type": "code",
   "execution_count": 44,
   "id": "50f63408",
   "metadata": {},
   "outputs": [
    {
     "name": "stdout",
     "output_type": "stream",
     "text": [
      "python\n"
     ]
    }
   ],
   "source": [
    "name=input()\n",
    "if name in contact.keys():\n",
    "    contact.pop(name)\n",
    "else:\n",
    "    print('name is not available')"
   ]
  },
  {
   "cell_type": "code",
   "execution_count": 45,
   "id": "20167cdc",
   "metadata": {},
   "outputs": [
    {
     "name": "stdout",
     "output_type": "stream",
     "text": [
      "{'Python': ['9876543210', 'python@gmail.com', '01-01-1997', '1327', '1327']}\n"
     ]
    }
   ],
   "source": [
    "print(contact)"
   ]
  }
 ],
 "metadata": {
  "kernelspec": {
   "display_name": "Python 3",
   "language": "python",
   "name": "python3"
  },
  "language_info": {
   "codemirror_mode": {
    "name": "ipython",
    "version": 3
   },
   "file_extension": ".py",
   "mimetype": "text/x-python",
   "name": "python",
   "nbconvert_exporter": "python",
   "pygments_lexer": "ipython3",
   "version": "3.8.8"
  }
 },
 "nbformat": 4,
 "nbformat_minor": 5
}
